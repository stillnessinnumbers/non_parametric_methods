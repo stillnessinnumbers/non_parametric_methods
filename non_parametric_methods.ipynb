{
 "cells": [
  {
   "cell_type": "code",
   "execution_count": 1,
   "id": "e6521015",
   "metadata": {},
   "outputs": [],
   "source": [
    "# Import packages\n",
    "import matplotlib.pyplot as plt\n",
    "import pandas as pd\n",
    "from scipy.stats import anderson\n",
    "from sklearn.model_selection import train_test_split\n",
    "from sklearn.ensemble import RandomForestRegressor\n",
    "from sklearn.metrics import mean_absolute_error, r2_score\n",
    "from statsmodels.formula.api import ols\n",
    "import statsmodels.api as sm\n",
    "import seaborn as sns\n",
    "from statsmodels.stats.diagnostic import het_breuschpagan\n",
    "from sklearn.neighbors import KNeighborsRegressor\n",
    "from sklearn.preprocessing import StandardScaler\n",
    "from sklearn.model_selection import GridSearchCV\n",
    "import statsmodels.api as sm\n",
    "from statsmodels.formula.api import ols\n",
    "from statsmodels.compat import lzip"
   ]
  },
  {
   "cell_type": "code",
   "execution_count": 6,
   "id": "a9348cdb",
   "metadata": {},
   "outputs": [
    {
     "data": {
      "text/plain": [
       "Index(['id', 'age', 'gender', 'income', 'education', 'region',\n",
       "       'loyalty_status', 'purchase_frequency', 'purchase_amount',\n",
       "       'product_category', 'promotion_usage', 'satisfaction_score'],\n",
       "      dtype='object')"
      ]
     },
     "execution_count": 6,
     "metadata": {},
     "output_type": "execute_result"
    }
   ],
   "source": [
    "# Load the dataset\n",
    "df = pd.read_csv('data/customer_data.csv')\n",
    "df.columns"
   ]
  },
  {
   "cell_type": "code",
   "execution_count": 9,
   "id": "074ca508",
   "metadata": {},
   "outputs": [
    {
     "name": "stdout",
     "output_type": "stream",
     "text": [
      "<class 'pandas.core.frame.DataFrame'>\n",
      "RangeIndex: 100000 entries, 0 to 99999\n",
      "Data columns (total 12 columns):\n",
      " #   Column              Non-Null Count   Dtype   \n",
      "---  ------              --------------   -----   \n",
      " 0   id                  100000 non-null  object  \n",
      " 1   age                 100000 non-null  int64   \n",
      " 2   gender              100000 non-null  category\n",
      " 3   income              100000 non-null  int64   \n",
      " 4   education           100000 non-null  category\n",
      " 5   region              100000 non-null  category\n",
      " 6   loyalty_status      100000 non-null  category\n",
      " 7   purchase_frequency  100000 non-null  category\n",
      " 8   purchase_amount     100000 non-null  int64   \n",
      " 9   product_category    100000 non-null  category\n",
      " 10  promotion_usage     100000 non-null  category\n",
      " 11  satisfaction_score  100000 non-null  int64   \n",
      "dtypes: category(7), int64(4), object(1)\n",
      "memory usage: 4.5+ MB\n"
     ]
    }
   ],
   "source": [
    "# Convert Categorical columns to the Category datatype\n",
    "categorical_columns = ['gender', 'education', 'region', 'loyalty_status', 'purchase_frequency',\n",
    "                       'product_category', 'promotion_usage']\n",
    "\n",
    "# For each column... convert to category\n",
    "for col in categorical_columns:\n",
    "    df[col] = df[col].astype('category')\n",
    "\n",
    "# Convert ID to String since it won't be used in the analysis\n",
    "df['id'] = df['id'].astype(str)\n",
    "\n",
    "# Confirm columns were converted\n",
    "df.info()"
   ]
  },
  {
   "cell_type": "markdown",
   "id": "9acff710",
   "metadata": {},
   "source": [
    "# Check for Null Values"
   ]
  },
  {
   "cell_type": "code",
   "execution_count": 11,
   "id": "1241913f",
   "metadata": {},
   "outputs": [
    {
     "name": "stdout",
     "output_type": "stream",
     "text": [
      "1         1\n",
      "66651     1\n",
      "66673     1\n",
      "66672     1\n",
      "66671     1\n",
      "         ..\n",
      "33332     1\n",
      "33331     1\n",
      "33330     1\n",
      "33329     1\n",
      "100000    1\n",
      "Name: id, Length: 100000, dtype: int64\n",
      "\n",
      "\n",
      "30    8867\n",
      "31    8645\n",
      "29    8636\n",
      "28    8266\n",
      "32    8034\n",
      "33    7214\n",
      "27    7022\n",
      "34    5894\n",
      "26    5882\n",
      "35    4873\n",
      "25    4856\n",
      "36    3583\n",
      "24    3576\n",
      "37    2697\n",
      "23    2636\n",
      "38    1791\n",
      "22    1790\n",
      "39    1200\n",
      "21    1187\n",
      "20     743\n",
      "40     682\n",
      "41     481\n",
      "19     457\n",
      "42     242\n",
      "18     233\n",
      "17     143\n",
      "43     125\n",
      "16      66\n",
      "44      58\n",
      "15      39\n",
      "45      35\n",
      "47      13\n",
      "14      13\n",
      "46      11\n",
      "13       4\n",
      "12       3\n",
      "48       2\n",
      "49       1\n",
      "Name: age, dtype: int64\n",
      "\n",
      "\n",
      "Female    50074\n",
      "Male      49926\n",
      "Name: gender, dtype: int64\n",
      "\n",
      "\n",
      "39596    12\n",
      "28944    10\n",
      "12803    10\n",
      "36828    10\n",
      "21832     9\n",
      "         ..\n",
      "47076     1\n",
      "44614     1\n",
      "14934     1\n",
      "45093     1\n",
      "35207     1\n",
      "Name: income, Length: 40003, dtype: int64\n",
      "\n",
      "\n",
      "College       39874\n",
      "Bachelor      30279\n",
      "HighSchool    20031\n",
      "Masters        9816\n",
      "Name: education, dtype: int64\n",
      "\n",
      "\n",
      "East     30074\n",
      "West     29935\n",
      "South    20073\n",
      "North    19918\n",
      "Name: region, dtype: int64\n",
      "\n",
      "\n",
      "Regular    60138\n",
      "Silver     29964\n",
      "Gold        9898\n",
      "Name: loyalty_status, dtype: int64\n",
      "\n",
      "\n",
      "rare          50019\n",
      "occasional    29886\n",
      "frequent      20095\n",
      "Name: purchase_frequency, dtype: int64\n",
      "\n",
      "\n",
      "8368     19\n",
      "3800     17\n",
      "11464    17\n",
      "2831     17\n",
      "3696     17\n",
      "         ..\n",
      "18222     1\n",
      "18773     1\n",
      "1980      1\n",
      "19211     1\n",
      "18104     1\n",
      "Name: purchase_amount, Length: 18902, dtype: int64\n",
      "\n",
      "\n",
      "Electronics    30027\n",
      "Clothing       19989\n",
      "Books          14925\n",
      "Food           14822\n",
      "Health         10123\n",
      "Home            5079\n",
      "Beauty          5035\n",
      "Name: product_category, dtype: int64\n",
      "\n",
      "\n",
      "0    69920\n",
      "1    30080\n",
      "Name: promotion_usage, dtype: int64\n",
      "\n",
      "\n",
      "5     38490\n",
      "6     24315\n",
      "4     23854\n",
      "7      6123\n",
      "3      6018\n",
      "8       616\n",
      "2       534\n",
      "9        30\n",
      "1        18\n",
      "10        1\n",
      "0         1\n",
      "Name: satisfaction_score, dtype: int64\n",
      "\n",
      "\n"
     ]
    }
   ],
   "source": [
    "# Loop through each column and print value counts\n",
    "for column in df.columns:\n",
    "    print(df[column].value_counts(dropna=False))\n",
    "    print(\"\\n\")"
   ]
  },
  {
   "cell_type": "markdown",
   "id": "af0a47b1",
   "metadata": {},
   "source": [
    "# Check for Duplicates"
   ]
  },
  {
   "cell_type": "code",
   "execution_count": 13,
   "id": "12c9f4ed",
   "metadata": {},
   "outputs": [
    {
     "name": "stdout",
     "output_type": "stream",
     "text": [
      "No complete duplicates\n"
     ]
    }
   ],
   "source": [
    "# Check for complete duplicates\n",
    "if df.duplicated().any():\n",
    "    print('Has complete duplicates')\n",
    "else:\n",
    "    print('No complete duplicates')"
   ]
  },
  {
   "cell_type": "markdown",
   "id": "fa6e6420",
   "metadata": {},
   "source": [
    "# Check for Outliers"
   ]
  },
  {
   "cell_type": "code",
   "execution_count": 14,
   "id": "a9eb6543",
   "metadata": {},
   "outputs": [],
   "source": [
    "# Drop ID column since we don't need it for this analysis\n",
    "df = df.drop(columns='id')"
   ]
  },
  {
   "cell_type": "code",
   "execution_count": 15,
   "id": "ffd14aa2",
   "metadata": {},
   "outputs": [
    {
     "data": {
      "image/png": "[encoded data removed]",
      "text/plain": [
       "<Figure size 640x480 with 1 Axes>"
      ]
     },
     "metadata": {},
     "output_type": "display_data"
    },
    {
     "name": "stdout",
     "output_type": "stream",
     "text": [
      "age has 513 outliers\n",
      "\n",
      "\n",
      "Value counts for gender\n",
      "Female    50074\n",
      "Male      49926\n",
      "Name: gender, dtype: int64\n",
      "\n",
      "\n"
     ]
    },
    {
     "data": {
      "image/png": "[encoded data removed]",
      "text/plain": [
       "<Figure size 640x480 with 1 Axes>"
      ]
     },
     "metadata": {},
     "output_type": "display_data"
    },
    {
     "name": "stdout",
     "output_type": "stream",
     "text": [
      "income has 0 outliers\n",
      "\n",
      "\n",
      "Value counts for education\n",
      "College       39874\n",
      "Bachelor      30279\n",
      "HighSchool    20031\n",
      "Masters        9816\n",
      "Name: education, dtype: int64\n",
      "\n",
      "\n",
      "\n",
      "Value counts for region\n",
      "East     30074\n",
      "West     29935\n",
      "South    20073\n",
      "North    19918\n",
      "Name: region, dtype: int64\n",
      "\n",
      "\n",
      "\n",
      "Value counts for loyalty_status\n",
      "Regular    60138\n",
      "Silver     29964\n",
      "Gold        9898\n",
      "Name: loyalty_status, dtype: int64\n",
      "\n",
      "\n",
      "\n",
      "Value counts for purchase_frequency\n",
      "rare          50019\n",
      "occasional    29886\n",
      "frequent      20095\n",
      "Name: purchase_frequency, dtype: int64\n",
      "\n",
      "\n"
     ]
    },
    {
     "data": {
      "image/png": "[encoded data removed]",
      "text/plain": [
       "<Figure size 640x480 with 1 Axes>"
      ]
     },
     "metadata": {},
     "output_type": "display_data"
    },
    {
     "name": "stdout",
     "output_type": "stream",
     "text": [
      "purchase_amount has 2 outliers\n",
      "\n",
      "\n",
      "Value counts for product_category\n",
      "Electronics    30027\n",
      "Clothing       19989\n",
      "Books          14925\n",
      "Food           14822\n",
      "Health         10123\n",
      "Home            5079\n",
      "Beauty          5035\n",
      "Name: product_category, dtype: int64\n",
      "\n",
      "\n",
      "\n",
      "Value counts for promotion_usage\n",
      "0    69920\n",
      "1    30080\n",
      "Name: promotion_usage, dtype: int64\n",
      "\n",
      "\n"
     ]
    },
    {
     "data": {
      "image/png": "[encoded data removed]",
      "text/plain": [
       "<Figure size 640x480 with 1 Axes>"
      ]
     },
     "metadata": {},
     "output_type": "display_data"
    },
    {
     "name": "stdout",
     "output_type": "stream",
     "text": [
      "satisfaction_score has 2 outliers\n",
      "\n"
     ]
    }
   ],
   "source": [
    "# Create boxplot and if outliers exist, calculate using IQR method\n",
    "for col in df.columns:\n",
    "    if df[col].dtype != 'category':\n",
    "        # Create boxplot\n",
    "        df.boxplot(column=col)\n",
    "        plt.title(f'Boxplot of {col}')\n",
    "        plt.show()\n",
    "        \n",
    "        # Calculate IQR lower and upper bounds to determine outliers\n",
    "        Q1 = df[col].quantile(0.25)\n",
    "        Q3 = df[col].quantile(0.75)\n",
    "        IQR = Q3 - Q1\n",
    "        lower_bound = Q1 - 1.5 * IQR\n",
    "        upper_bound = Q3 + 1.5 * IQR\n",
    "        \n",
    "        # Count and display outliers\n",
    "        outliers = df[(df[col] < lower_bound) | (df[col] > upper_bound)]\n",
    "        num_outliers = outliers.shape[0]\n",
    "        print(f\"{col} has {num_outliers} outliers\")\n",
    "        print()\n",
    "        \n",
    "        \n",
    "    else:\n",
    "        # For categorical variables, determine if any category makes up a small percentage\n",
    "        print()\n",
    "        print(f'Value counts for {col}')\n",
    "        print(df[col].value_counts())\n",
    "        print('\\n')"
   ]
  },
  {
   "cell_type": "code",
   "execution_count": null,
   "id": "ac10191d",
   "metadata": {},
   "outputs": [],
   "source": []
  },
  {
   "cell_type": "code",
   "execution_count": null,
   "id": "b8284491",
   "metadata": {},
   "outputs": [],
   "source": []
  }
 ],
 "metadata": {
  "kernelspec": {
   "display_name": "Python 3 (ipykernel)",
   "language": "python",
   "name": "python3"
  },
  "language_info": {
   "codemirror_mode": {
    "name": "ipython",
    "version": 3
   },
   "file_extension": ".py",
   "mimetype": "text/x-python",
   "name": "python",
   "nbconvert_exporter": "python",
   "pygments_lexer": "ipython3",
   "version": "3.9.13"
  }
 },
 "nbformat": 4,
 "nbformat_minor": 5
}
